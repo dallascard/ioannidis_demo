{
 "metadata": {
  "name": "",
  "signature": "sha256:12274d0f9f352013dc91215bf2f3436551567ba9b9fe0e9ff97c65504aa3e2d6"
 },
 "nbformat": 3,
 "nbformat_minor": 0,
 "worksheets": [
  {
   "cells": [
    {
     "cell_type": "heading",
     "level": 1,
     "metadata": {},
     "source": [
      "Bias"
     ]
    },
    {
     "cell_type": "code",
     "collapsed": false,
     "input": [
      "import numpy as np\n",
      "import pandas as pd\n",
      "from IPython.html.widgets import interact\n",
      "import matplotlib.pyplot as plt\n",
      "%matplotlib inline\n",
      "@interact\n",
      "def plot(alpha=(0,0.2,0.01),power=(0,1,0.05), bias=(0,0.5,0.05)):\n",
      "    R = np.arange(0,1.05,0.05)\n",
      "    beta = 1-power\n",
      "    PPV = ((1-beta)*R + bias*beta*R)/((1-beta)*R + alpha + bias - bias*alpha + bias*beta*R)\n",
      "    plt.plot(R,PPV)\n",
      "    plt.ylim(0,1)\n",
      "    plt.xlabel('R')\n",
      "    plt.ylabel('PPV')\n",
      "    plt.show()"
     ],
     "language": "python",
     "metadata": {},
     "outputs": [
      {
       "metadata": {},
       "output_type": "display_data",
       "png": "[encoded data removed]",
       "text": [
        "<matplotlib.figure.Figure at 0x1078395d0>"
       ]
      }
     ],
     "prompt_number": 1
    },
    {
     "cell_type": "heading",
     "level": 1,
     "metadata": {},
     "source": [
      "n Independent Studies"
     ]
    },
    {
     "cell_type": "code",
     "collapsed": false,
     "input": [
      "@interact\n",
      "def plot(alpha=(0,0.2,0.01),power=(0,1,0.05), n=(1,10)):\n",
      "    R = np.arange(0,1.05,0.05)\n",
      "    beta = 1-power\n",
      "    PPV = R*(1-beta**n)/(R + 1 - (1-alpha)**n - R*beta**n)\n",
      "    plt.plot(R,PPV)\n",
      "    plt.ylim(0,1)\n",
      "    plt.xlabel('R')\n",
      "    plt.ylabel('PPV')\n",
      "    plt.show()"
     ],
     "language": "python",
     "metadata": {},
     "outputs": [
      {
       "metadata": {},
       "output_type": "display_data",
       "png": "[encoded data removed]",
       "text": [
        "<matplotlib.figure.Figure at 0x106171610>"
       ]
      }
     ],
     "prompt_number": 2
    },
    {
     "cell_type": "code",
     "collapsed": false,
     "input": [],
     "language": "python",
     "metadata": {},
     "outputs": [],
     "prompt_number": 3
    },
    {
     "cell_type": "code",
     "collapsed": false,
     "input": [
      "from ipywidgets import StaticInteract, RangeWidget, RadioWidget\n",
      "\n",
      "def plot(alpha=(0,0.2,0.1),power=(0,1,0.5), n=(1,10)):\n",
      "    R = np.arange(0,1.05,0.05)\n",
      "    beta = 1-power\n",
      "    PPV = R*(1-beta**n)/(R + 1 - (1-alpha)**n - R*beta**n)\n",
      "    plt.plot(R,PPV)\n",
      "    plt.ylim(0,1)\n",
      "    plt.xlabel('R')\n",
      "    plt.ylabel('PPV')\n",
      "    plt.show()\n",
      "    \n",
      "StaticInteract(plot,\n",
      "               Z=RangeWidget(15, 30, 1),\n",
      "               )"
     ],
     "language": "python",
     "metadata": {},
     "outputs": [
      {
       "ename": "ImportError",
       "evalue": "No module named ipywidgets",
       "output_type": "pyerr",
       "traceback": [
        "\u001b[0;31m---------------------------------------------------------------------------\u001b[0m\n\u001b[0;31mImportError\u001b[0m                               Traceback (most recent call last)",
        "\u001b[0;32m<ipython-input-4-6a2f5e7f05b2>\u001b[0m in \u001b[0;36m<module>\u001b[0;34m()\u001b[0m\n\u001b[0;32m----> 1\u001b[0;31m \u001b[0;32mfrom\u001b[0m \u001b[0mipywidgets\u001b[0m \u001b[0;32mimport\u001b[0m \u001b[0mStaticInteract\u001b[0m\u001b[0;34m,\u001b[0m \u001b[0mRangeWidget\u001b[0m\u001b[0;34m,\u001b[0m \u001b[0mRadioWidget\u001b[0m\u001b[0;34m\u001b[0m\u001b[0m\n\u001b[0m\u001b[1;32m      2\u001b[0m \u001b[0;34m\u001b[0m\u001b[0m\n\u001b[1;32m      3\u001b[0m \u001b[0;32mdef\u001b[0m \u001b[0mplot\u001b[0m\u001b[0;34m(\u001b[0m\u001b[0malpha\u001b[0m\u001b[0;34m=\u001b[0m\u001b[0;34m(\u001b[0m\u001b[0;36m0\u001b[0m\u001b[0;34m,\u001b[0m\u001b[0;36m0.2\u001b[0m\u001b[0;34m,\u001b[0m\u001b[0;36m0.1\u001b[0m\u001b[0;34m)\u001b[0m\u001b[0;34m,\u001b[0m\u001b[0mpower\u001b[0m\u001b[0;34m=\u001b[0m\u001b[0;34m(\u001b[0m\u001b[0;36m0\u001b[0m\u001b[0;34m,\u001b[0m\u001b[0;36m1\u001b[0m\u001b[0;34m,\u001b[0m\u001b[0;36m0.5\u001b[0m\u001b[0;34m)\u001b[0m\u001b[0;34m,\u001b[0m \u001b[0mn\u001b[0m\u001b[0;34m=\u001b[0m\u001b[0;34m(\u001b[0m\u001b[0;36m1\u001b[0m\u001b[0;34m,\u001b[0m\u001b[0;36m10\u001b[0m\u001b[0;34m)\u001b[0m\u001b[0;34m)\u001b[0m\u001b[0;34m:\u001b[0m\u001b[0;34m\u001b[0m\u001b[0m\n\u001b[1;32m      4\u001b[0m     \u001b[0mR\u001b[0m \u001b[0;34m=\u001b[0m \u001b[0mnp\u001b[0m\u001b[0;34m.\u001b[0m\u001b[0marange\u001b[0m\u001b[0;34m(\u001b[0m\u001b[0;36m0\u001b[0m\u001b[0;34m,\u001b[0m\u001b[0;36m1.05\u001b[0m\u001b[0;34m,\u001b[0m\u001b[0;36m0.05\u001b[0m\u001b[0;34m)\u001b[0m\u001b[0;34m\u001b[0m\u001b[0m\n\u001b[1;32m      5\u001b[0m     \u001b[0mbeta\u001b[0m \u001b[0;34m=\u001b[0m \u001b[0;36m1\u001b[0m\u001b[0;34m-\u001b[0m\u001b[0mpower\u001b[0m\u001b[0;34m\u001b[0m\u001b[0m\n",
        "\u001b[0;31mImportError\u001b[0m: No module named ipywidgets"
       ]
      }
     ],
     "prompt_number": 4
    },
    {
     "cell_type": "code",
     "collapsed": false,
     "input": [],
     "language": "python",
     "metadata": {},
     "outputs": []
    }
   ],
   "metadata": {}
  }
 ]
}